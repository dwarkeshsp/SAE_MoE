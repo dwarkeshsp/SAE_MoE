{
 "cells": [
  {
   "cell_type": "code",
   "execution_count": 7,
   "metadata": {},
   "outputs": [],
   "source": [
    "import torch\n",
    "import pandas as pd\n",
    "from tqdm import tqdm\n",
    "from transformers import (\n",
    "    AutoTokenizer,\n",
    "    BitsAndBytesConfig,\n",
    "    MixtralModel,\n",
    "    MixtralConfig,\n",
    "    AutoModelForCausalLM\n",
    ")\n",
    "from torch import nn\n",
    "import collections\n",
    "import time\n",
    "import os\n",
    "from einops import rearrange\n",
    "import torch.nn.functional as F"
   ]
  },
  {
   "cell_type": "code",
   "execution_count": 2,
   "metadata": {},
   "outputs": [
    {
     "name": "stdout",
     "output_type": "stream",
     "text": [
      "cuda\n"
     ]
    }
   ],
   "source": [
    "device = torch.device(\"cuda\" if torch.cuda.is_available() else \"cpu\")\n",
    "print(device)\n",
    "\n",
    "tokenizer = AutoTokenizer.from_pretrained(\"mistralai/Mixtral-8x7B-v0.1\")"
   ]
  },
  {
   "cell_type": "code",
   "execution_count": 3,
   "metadata": {},
   "outputs": [],
   "source": [
    "layer = 15\n",
    "\n",
    "W3 = 0\n",
    "ACT_FN = 1\n",
    "W2 = 2\n",
    "GATE = 3\n",
    "\n",
    "sequence_length = 128\n",
    "batch_size = 6\n",
    "num_experts = 8\n",
    "expert_ffn_dims = 14336\n",
    "expert_hidden_dims = 4096"
   ]
  },
  {
   "cell_type": "code",
   "execution_count": 4,
   "metadata": {},
   "outputs": [
    {
     "name": "stderr",
     "output_type": "stream",
     "text": [
      "`low_cpu_mem_usage` was None, now set to True since model is quantized.\n"
     ]
    },
    {
     "data": {
      "application/vnd.jupyter.widget-view+json": {
       "model_id": "2be5983414e44846a14ad5580feb3d7e",
       "version_major": 2,
       "version_minor": 0
      },
      "text/plain": [
       "Loading checkpoint shards:   0%|          | 0/19 [00:00<?, ?it/s]"
      ]
     },
     "metadata": {},
     "output_type": "display_data"
    }
   ],
   "source": [
    "double_quant_config = BitsAndBytesConfig(\n",
    "    load_in_4bit=True,\n",
    "    bnb_4bit_use_double_quant=True,\n",
    ")\n",
    "\n",
    "config = MixtralConfig(\n",
    "    num_experts_per_tok=8,\n",
    "    num_hidden_layers=layer + 1,\n",
    ")\n",
    "\n",
    "model = AutoModelForCausalLM.from_pretrained(\n",
    "    \"mistralai/Mixtral-8x7B-v0.1\",\n",
    "    quantization_config=double_quant_config,\n",
    "    attn_implementation=\"flash_attention_2\",\n",
    "    config=config,\n",
    ")"
   ]
  },
  {
   "cell_type": "code",
   "execution_count": 5,
   "metadata": {},
   "outputs": [],
   "source": [
    "def load_generated_dataset(\n",
    "    filename, batch_size, dataset_relative_path=\"../dataset\"\n",
    "):\n",
    "    dataset = pd.read_csv(f\"{dataset_relative_path}/{filename}\")\n",
    "    # print(dataset.head(10))\n",
    "    dataset_list = dataset[\"0\"].tolist()\n",
    "    dataloader = torch.utils.data.DataLoader(dataset_list, batch_size=batch_size)\n",
    "    return dataloader\n",
    "\n",
    "\n",
    "dataset = load_generated_dataset(\"pile.csv\", batch_size=batch_size)"
   ]
  },
  {
   "cell_type": "code",
   "execution_count": 21,
   "metadata": {},
   "outputs": [
    {
     "name": "stderr",
     "output_type": "stream",
     "text": [
      "  0%|          | 1/1939 [00:01<32:33,  1.01s/it]"
     ]
    },
    {
     "name": "stdout",
     "output_type": "stream",
     "text": [
      "torch.Size([8, 768, 4096])\n",
      "torch.Size([768, 8])\n",
      "tensor([[-0.1617, -0.1150, -0.0352,  ..., -0.0876,  0.0043, -0.0533],\n",
      "        [-0.1617, -0.1150, -0.0352,  ..., -0.0876,  0.0043, -0.0533],\n",
      "        [-0.5854,  1.0127,  0.3003,  ..., -0.4873,  0.6367,  0.2510],\n",
      "        ...,\n",
      "        [ 1.5879, -0.1747, -0.6221,  ...,  0.5190, -0.8062, -0.5576],\n",
      "        [ 0.7373,  0.0413, -0.6836,  ...,  0.2683,  0.0616, -1.1279],\n",
      "        [-0.9150,  0.7690, -0.8047,  ..., -0.1301,  0.7295,  0.6567]],\n",
      "       device='cuda:0')\n",
      "tensor([[0.1124, 0.1177, 0.1275,  ..., 0.1210, 0.1327, 0.1252],\n",
      "        [0.1124, 0.1177, 0.1275,  ..., 0.1210, 0.1327, 0.1252],\n",
      "        [0.0578, 0.2858, 0.1402,  ..., 0.0638, 0.1962, 0.1334],\n",
      "        ...,\n",
      "        [0.4778, 0.0820, 0.0524,  ..., 0.1641, 0.0436, 0.0559],\n",
      "        [0.2511, 0.1252, 0.0606,  ..., 0.1571, 0.1278, 0.0389],\n",
      "        [0.0433, 0.2333, 0.0484,  ..., 0.0949, 0.2242, 0.2085]],\n",
      "       device='cuda:0')\n",
      "torch.Size([768, 2])\n",
      "tensor([[4, 6],\n",
      "        [4, 6],\n",
      "        [1, 6],\n",
      "        ...,\n",
      "        [0, 5],\n",
      "        [0, 4],\n",
      "        [1, 6]], device='cuda:0')\n",
      "torch.Size([768, 2])\n"
     ]
    },
    {
     "name": "stderr",
     "output_type": "stream",
     "text": [
      "\n"
     ]
    }
   ],
   "source": [
    "i = 0\n",
    "\n",
    "moe = model.model.layers[layer].block_sparse_moe\n",
    "\n",
    "hooks = []\n",
    "\n",
    "for batch in tqdm(dataset):\n",
    "    if i > 0:\n",
    "        break\n",
    "    i += 1\n",
    "\n",
    "    w3 = torch.zeros(num_experts, sequence_length * batch_size, expert_ffn_dims, device=device)\n",
    "    act_fn = torch.zeros(\n",
    "        num_experts, sequence_length * batch_size, expert_ffn_dims, device=device\n",
    "    )\n",
    "    mlp = torch.zeros(num_experts, sequence_length * batch_size, expert_hidden_dims, device=device)\n",
    "    router_logits = torch.zeros(sequence_length * batch_size, num_experts, device=device)\n",
    "\n",
    "    def getActivation(expert_idx, type):\n",
    "        def hook(model, input, output):\n",
    "            if type == W3:\n",
    "                w3[expert_idx] = output.detach()\n",
    "            elif type == ACT_FN:\n",
    "                act_fn[expert_idx] = output.detach()\n",
    "            elif type == W2:\n",
    "                mlp[expert_idx] = output.detach()\n",
    "            elif type == GATE:\n",
    "                router_logits[:] = output.detach()\n",
    "                # print(router_logits)\n",
    "\n",
    "        return hook\n",
    "\n",
    "    for expert_idx in range(num_experts):\n",
    "        # w3_hook = experts[expert_idx].w3.register_forward_hook(getActivation(expert_idx, W3))\n",
    "        # act_fn_hook = experts[expert_idx].act_fn.register_forward_hook(getActivation(expert_idx, ACT_FN))\n",
    "        w2_hook = moe.experts[expert_idx].w2.register_forward_hook(getActivation(expert_idx, W2))\n",
    "        gate_hook = moe.gate.register_forward_hook(getActivation(expert_idx, GATE))\n",
    "        # hooks.extend([w3_hook, act_fn_hook])\n",
    "        hooks.extend([w2_hook, gate_hook])\n",
    "\n",
    "    tokenizer.pad_token = tokenizer.eos_token\n",
    "\n",
    "    batch_tokens = tokenizer(\n",
    "        batch,\n",
    "        padding=\"max_length\",\n",
    "        truncation=True,\n",
    "        max_length=sequence_length,\n",
    "        return_tensors=\"pt\",\n",
    "    ).to(device)\n",
    "\n",
    "    try:\n",
    "        output = model(batch_tokens[\"input_ids\"])\n",
    "    except Exception as e:\n",
    "        for hook in hooks:\n",
    "            hook.remove()\n",
    "    # print(w3.shape)\n",
    "    # acts = w3 * act_fn\n",
    "    # print(acts.shape)\n",
    "    # acts = rearrange(\n",
    "    # acts, \"experts sequences dims -> sequences experts dims\"\n",
    "    # )\n",
    "    # print(acts.shape)\n",
    "    print(mlp.shape)\n",
    "    print(router_logits.shape)\n",
    "    print(router_logits)\n",
    "\n",
    "    routing_weights = F.softmax(router_logits, dim=1, dtype=torch.float)\n",
    "    print(routing_weights)\n",
    "    routing_weights, selected_experts = torch.topk(routing_weights, 2, dim=-1)\n",
    "    print(routing_weights.shape)\n",
    "    print(selected_experts)\n",
    "    routing_weights /= routing_weights.sum(dim=-1, keepdim=True)\n",
    "\n",
    "    print(routing_weights.shape)\n",
    "\n",
    "    for hook in hooks:\n",
    "        hook.remove()\n",
    "\n",
    "    # print(tokenizer.batch_decode(generated_ids))"
   ]
  },
  {
   "cell_type": "code",
   "execution_count": null,
   "metadata": {},
   "outputs": [],
   "source": [
    "Suppose the feature fires hard on the following activation:\n",
    "\n",
    "4 -5 4 | 0 0 0 | 0 0 0 | 3 2 3\n",
    "\n",
    "def feature_to_expert()\n",
    "    feature: 0 1 0 0 0 0 0 0 0 \n",
    "    feature * w_dec: 4 -5 4 | 1 -2 1 | 1 0 0 | 3 2 3 |\n",
    "    sum of absolute values: 13 | 4 | 1 | 8\n",
    "    softmax experts: .6, .1, .1, .2"
   ]
  },
  {
   "cell_type": "markdown",
   "metadata": {},
   "source": [
    "We're trying to figure out how to map features back to experts. And how we decide to do this will change how we train the autoencoder. Is the following strategy sensible? Specifically, when going from activations to experts in the psuedocode below, will doing sum of absolute values fuck us up? Doesn't seem elegant. But do you buy that these are indeed the experts corresponding to some feature? If not, there's potentially other ideas we can try that require a lot more Mixtral fucking. \n",
    "\n",
    "We only turn on 2 experts (like the default model), zeroing out everything else.\n",
    "\n",
    "Suppose on this activation a feature would fire really hard:\n",
    "\n",
    "4 -5 4 | 0 0 0 | 0 0 0 | 3 2 3\n",
    "\n",
    "def feature_to_expert(feature)\n",
    "    feature: 0 1 0 0 0 0 0 0 0 \n",
    "    feature * w_dec: 4 -5 4 | 1 -2 1 | 1 0 0 | 3 2 3 | (because sometimes it fires on other experts)\n",
    "    sum of absolute values: 13 | 4 | 1 | 8\n",
    "    normalize across experts: .5, .1, .1, .3"
   ]
  }
 ],
 "metadata": {
  "kernelspec": {
   "display_name": "Python 3 (ipykernel)",
   "language": "python",
   "name": "python3"
  },
  "language_info": {
   "codemirror_mode": {
    "name": "ipython",
    "version": 3
   },
   "file_extension": ".py",
   "mimetype": "text/x-python",
   "name": "python",
   "nbconvert_exporter": "python",
   "pygments_lexer": "ipython3",
   "version": "3.10.13"
  }
 },
 "nbformat": 4,
 "nbformat_minor": 4
}
